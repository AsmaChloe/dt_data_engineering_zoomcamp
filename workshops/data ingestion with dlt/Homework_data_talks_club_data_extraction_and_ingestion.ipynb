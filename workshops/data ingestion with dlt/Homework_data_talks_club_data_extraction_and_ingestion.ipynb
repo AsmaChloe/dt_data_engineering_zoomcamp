{
  "cells": [
    {
      "cell_type": "markdown",
      "metadata": {
        "id": "mrTFv5nPClXh"
      },
      "source": [
        "# **Homework**: Data talks club data engineering zoomcamp Data loading workshop\n",
        "\n",
        "Hello folks, let's practice what we learned - Loading data with the best practices of data engineering.\n",
        "\n",
        "Here are the exercises we will do\n",
        "\n",
        "\n"
      ]
    },
    {
      "cell_type": "markdown",
      "metadata": {
        "id": "wLF4iXf-NR7t"
      },
      "source": [
        "# 1. Use a generator\n",
        "\n",
        "Remember the concept of generator? Let's practice using them to futher our understanding of how they work.\n",
        "\n",
        "Let's define a generator and then run it as practice.\n",
        "\n",
        "**Answer the following questions:**\n",
        "\n",
        "- **Question 1: What is the sum of the outputs of the generator for limit = 5?**\n",
        "- **Question 2: What is the 13th number yielded**\n",
        "\n",
        "I suggest practicing these questions without GPT as the purpose is to further your learning."
      ]
    },
    {
      "cell_type": "markdown",
      "metadata": {
        "id": "I5jiwwYkd88i"
      },
      "source": [
        "## Question 1 : What is the sum of the outputs of the generator for limit = 5?"
      ]
    },
    {
      "cell_type": "code",
      "execution_count": 1,
      "metadata": {
        "colab": {
          "base_uri": "https://localhost:8080/"
        },
        "id": "wLng-bDJN4jf",
        "outputId": "0e7ec4d9-4fdf-4ac1-c254-8ffae7deddb5"
      },
      "outputs": [
        {
          "output_type": "stream",
          "name": "stdout",
          "text": [
            "1.0\n",
            "2.414213562373095\n",
            "4.146264369941973\n",
            "6.146264369941973\n",
            "8.382332347441762\n"
          ]
        }
      ],
      "source": [
        "def square_root_generator(limit):\n",
        "    n = 1\n",
        "    while n <= limit:\n",
        "        yield n ** 0.5\n",
        "        n += 1\n",
        "\n",
        "def sum_square_root_generator(limit) :\n",
        "    sum = 0\n",
        "    generator = square_root_generator(limit)\n",
        "\n",
        "    for sqrt_value in generator:\n",
        "        sum += sqrt_value\n",
        "        yield sum\n",
        "\n",
        "limit = 5\n",
        "\n",
        "generator = sum_square_root_generator(limit)\n",
        "\n",
        "for sum in generator :\n",
        "    print(sum)"
      ]
    },
    {
      "cell_type": "markdown",
      "metadata": {
        "id": "KyNiFmVOd88k"
      },
      "source": [
        "## Question 2 : What is the 13th number yielded by the generator?"
      ]
    },
    {
      "cell_type": "code",
      "execution_count": 2,
      "metadata": {
        "colab": {
          "base_uri": "https://localhost:8080/"
        },
        "id": "AytIzCFId88l",
        "outputId": "b9f11d0a-6c66-49dd-ee49-5bae0fc4dd03"
      },
      "outputs": [
        {
          "output_type": "stream",
          "name": "stdout",
          "text": [
            "1 1.0\n",
            "2 1.4142135623730951\n",
            "3 1.7320508075688772\n",
            "4 2.0\n",
            "5 2.23606797749979\n",
            "6 2.449489742783178\n",
            "7 2.6457513110645907\n",
            "8 2.8284271247461903\n",
            "9 3.0\n",
            "10 3.1622776601683795\n",
            "11 3.3166247903554\n",
            "12 3.4641016151377544\n",
            "13 3.605551275463989\n"
          ]
        }
      ],
      "source": [
        "limit = 13\n",
        "\n",
        "generator = square_root_generator(limit)\n",
        "\n",
        "for i, sqrt_num in enumerate(generator) :\n",
        "    print(i+1,sqrt_num)\n"
      ]
    },
    {
      "cell_type": "markdown",
      "metadata": {
        "id": "vjWhILzGJMpK"
      },
      "source": [
        "# 2. Append a generator to a table with existing data\n",
        "\n",
        "\n",
        "Below you have 2 generators. You will be tasked to load them to duckdb and answer some questions from the data\n",
        "\n",
        "1. Load the first generator and calculate the sum of ages of all people. Make sure to only load it once.\n",
        "2. Append the second generator to the same table as the first.\n",
        "3. **After correctly appending the data, calculate the sum of all ages of people.**\n",
        "\n",
        "\n"
      ]
    },
    {
      "cell_type": "markdown",
      "source": [
        "## Question 3 : Append the 2 generators. After correctly appending the data, calculate the sum of all ages of people."
      ],
      "metadata": {
        "id": "GD8BFoJCwoMZ"
      }
    },
    {
      "cell_type": "code",
      "execution_count": 30,
      "metadata": {
        "id": "NHNsejQ7d88l"
      },
      "outputs": [],
      "source": [
        "%%capture\n",
        "%pip install dlt[duckdb] # Install dlt with all the necessary DuckDB dependencies"
      ]
    },
    {
      "cell_type": "code",
      "execution_count": 50,
      "metadata": {
        "id": "6b8zPpLwd88m"
      },
      "outputs": [],
      "source": [
        "import dlt\n",
        "\n",
        "#Creatin table people from generator people_1\n",
        "def people_1():\n",
        "    for i in range(1, 6):\n",
        "        yield {\"ID\": i, \"Name\": f\"Person_{i}\", \"Age\": 25 + i, \"City\": \"City_A\"}\n",
        "\n",
        "generators_pipeline = dlt.pipeline(destination='duckdb', dataset_name='people')\n",
        "\n",
        "info = generators_pipeline.run(people_1(),\n",
        "\t\t\t\t\t\t\t\t\t\ttable_name=\"people\",\n",
        "\t\t\t\t\t\t\t\t\t\twrite_disposition=\"replace\")"
      ]
    },
    {
      "cell_type": "code",
      "source": [
        "#Appending data from generator people_2 to existing table\n",
        "\n",
        "def people_2():\n",
        "    for i in range(3, 9):\n",
        "        yield {\"ID\": i, \"Name\": f\"Person_{i}\", \"Age\": 30 + i, \"City\": \"City_B\", \"Occupation\": f\"Job_{i}\"}\n",
        "\n",
        "generators_pipeline = dlt.pipeline(destination='duckdb', dataset_name='people')\n",
        "\n",
        "info = generators_pipeline.run(people_2(),\n",
        "\t\t\t\t\t\t\t\t\t\ttable_name=\"people\",\n",
        "\t\t\t\t\t\t\t\t\t\twrite_disposition=\"append\")"
      ],
      "metadata": {
        "id": "s_s17ByCtY1_"
      },
      "execution_count": 51,
      "outputs": []
    },
    {
      "cell_type": "code",
      "source": [
        "import duckdb\n",
        "\n",
        "con = duckdb.connect(f\"{generators_pipeline.pipeline_name}.duckdb\")"
      ],
      "metadata": {
        "id": "CyVskBlEt3gb"
      },
      "execution_count": 52,
      "outputs": []
    },
    {
      "cell_type": "code",
      "source": [
        "con.sql(\"select sum(Age) from people.people\")"
      ],
      "metadata": {
        "colab": {
          "base_uri": "https://localhost:8080/"
        },
        "id": "YERmdUqnuSpt",
        "outputId": "36d8a6cc-fb9b-4ab0-ba68-933d7da4eb14"
      },
      "execution_count": 54,
      "outputs": [
        {
          "output_type": "execute_result",
          "data": {
            "text/plain": [
              "┌──────────┐\n",
              "│ sum(Age) │\n",
              "│  int128  │\n",
              "├──────────┤\n",
              "│      353 │\n",
              "└──────────┘"
            ]
          },
          "metadata": {},
          "execution_count": 54
        }
      ]
    },
    {
      "cell_type": "markdown",
      "metadata": {
        "id": "pY4cFAWOSwN1"
      },
      "source": [
        "# 3. Merge a generator\n",
        "\n",
        "Re-use the generators from Exercise 2.\n",
        "\n",
        "A table's primary key needs to be created from the start, so load your data to a new table with primary key ID.\n",
        "\n",
        "Load your first generator first, and then load the second one with merge. Since they have overlapping IDs, some of the records from the first load should be replaced by the ones from the second load.\n",
        "\n",
        "After loading, you should have a total of 8 records, and ID 3 should have age 33.\n",
        "\n",
        "Question: **Calculate the sum of ages of all the people loaded as described above.**\n"
      ]
    },
    {
      "cell_type": "markdown",
      "source": [
        "## Question 4 : Merge the 2 generators using the ID column. Calculate the sum of ages of all the people loaded as described above."
      ],
      "metadata": {
        "id": "vSNhw9TNwse_"
      }
    },
    {
      "cell_type": "code",
      "source": [
        "generators_pipeline = dlt.pipeline(destination='duckdb', dataset_name='people')\n",
        "\n",
        "info = generators_pipeline.run(people_1(),\n",
        "\t\t\t\t\t\t\t\t\t\ttable_name=\"people_merge\",\n",
        "\t\t\t\t\t\t\t\t\t\twrite_disposition=\"replace\",\n",
        "                    primary_key = \"id\")"
      ],
      "metadata": {
        "id": "jwqZxiZ0wvI2"
      },
      "execution_count": 69,
      "outputs": []
    },
    {
      "cell_type": "code",
      "source": [
        "generators_pipeline = dlt.pipeline(destination='duckdb', dataset_name='people')\n",
        "\n",
        "info = generators_pipeline.run(people_2(),\n",
        "\t\t\t\t\t\t\t\t\t\ttable_name=\"people_merge\",\n",
        "\t\t\t\t\t\t\t\t\t\twrite_disposition=\"merge\",\n",
        "                    primary_key = \"id\")"
      ],
      "metadata": {
        "id": "T3DUKeyjxulQ"
      },
      "execution_count": 70,
      "outputs": []
    },
    {
      "cell_type": "code",
      "source": [
        "con.sql('select count(*) from people.people_merge')"
      ],
      "metadata": {
        "colab": {
          "base_uri": "https://localhost:8080/"
        },
        "id": "HpQK61fFyo-0",
        "outputId": "eb17e635-884b-4652-bc70-b46c0d3e5216"
      },
      "execution_count": 73,
      "outputs": [
        {
          "output_type": "execute_result",
          "data": {
            "text/plain": [
              "┌──────────────┐\n",
              "│ count_star() │\n",
              "│    int64     │\n",
              "├──────────────┤\n",
              "│            8 │\n",
              "└──────────────┘"
            ]
          },
          "metadata": {},
          "execution_count": 73
        }
      ]
    },
    {
      "cell_type": "code",
      "source": [
        "con.sql('select Age from people.people_merge where id = 3')"
      ],
      "metadata": {
        "id": "pHD1QRTqyrvK",
        "outputId": "fa0e2e66-8872-4f7c-982a-be1e934f9c1c",
        "colab": {
          "base_uri": "https://localhost:8080/"
        }
      },
      "execution_count": 74,
      "outputs": [
        {
          "output_type": "execute_result",
          "data": {
            "text/plain": [
              "┌───────┐\n",
              "│  age  │\n",
              "│ int64 │\n",
              "├───────┤\n",
              "│    33 │\n",
              "└───────┘"
            ]
          },
          "metadata": {},
          "execution_count": 74
        }
      ]
    },
    {
      "cell_type": "code",
      "source": [
        "con.sql('select sum(Age) from people.people_merge')"
      ],
      "metadata": {
        "colab": {
          "base_uri": "https://localhost:8080/"
        },
        "id": "wDSlBRvpyGDM",
        "outputId": "139d0f91-c083-4f07-ea5c-89df065ad3ba"
      },
      "execution_count": 72,
      "outputs": [
        {
          "output_type": "execute_result",
          "data": {
            "text/plain": [
              "┌──────────┐\n",
              "│ sum(Age) │\n",
              "│  int128  │\n",
              "├──────────┤\n",
              "│      266 │\n",
              "└──────────┘"
            ]
          },
          "metadata": {},
          "execution_count": 72
        }
      ]
    }
  ],
  "metadata": {
    "colab": {
      "provenance": []
    },
    "kernelspec": {
      "display_name": "Python 3",
      "name": "python3"
    },
    "language_info": {
      "codemirror_mode": {
        "name": "ipython",
        "version": 3
      },
      "file_extension": ".py",
      "mimetype": "text/x-python",
      "name": "python",
      "nbconvert_exporter": "python",
      "pygments_lexer": "ipython3",
      "version": "3.10.4"
    }
  },
  "nbformat": 4,
  "nbformat_minor": 0
}